{
 "cells": [
  {
   "cell_type": "code",
   "execution_count": 2,
   "metadata": {},
   "outputs": [],
   "source": [
    "import os\n",
    "import argparse\n",
    "import shutil"
   ]
  },
  {
   "cell_type": "code",
   "execution_count": 4,
   "metadata": {},
   "outputs": [
    {
     "name": "stderr",
     "output_type": "stream",
     "text": [
      "usage: ipykernel_launcher.py [-h] in_dir out_dir\n",
      "ipykernel_launcher.py: error: the following arguments are required: in_dir, out_dir\n"
     ]
    },
    {
     "ename": "SystemExit",
     "evalue": "2",
     "output_type": "error",
     "traceback": [
      "An exception has occurred, use %tb to see the full traceback.\n",
      "\u001b[0;31mSystemExit\u001b[0m\u001b[0;31m:\u001b[0m 2\n"
     ]
    },
    {
     "name": "stderr",
     "output_type": "stream",
     "text": [
      "/Users/sakai/.pyenv/versions/anaconda3-5.3.1/envs/pytorch11_py36/lib/python3.6/site-packages/IPython/core/interactiveshell.py:3304: UserWarning: To exit: use 'exit', 'quit', or Ctrl-D.\n",
      "  warn(\"To exit: use 'exit', 'quit', or Ctrl-D.\", stacklevel=1)\n"
     ]
    }
   ],
   "source": [
    "if __name__ == \"__main__\":\n",
    "    parser = argparse.ArgumentParser()\n",
    "    parser.add_argument( \"in_dir\", help=\"input a directory\", type=str )\n",
    "    parser.add_argument( \"out_dir\", help=\"output a directory\", type=str )\n",
    "    #args = parser.parse_args()\n",
    "    args = parser.parse_args(args=[])  # for jyupter notebook\n",
    "    in_dir = args.in_dir\n",
    "    out_dir = args.out_dir"
   ]
  },
  {
   "cell_type": "markdown",
   "metadata": {},
   "source": [
    "出力ディレクトリは存在するかチェックし、存在しない場合はフォルダを作成する処理を入れること\n",
    "フォルダの存在確認は、`os.path.isdir()` 又は `os.path.exists()` で行える。"
   ]
  },
  {
   "cell_type": "code",
   "execution_count": null,
   "metadata": {},
   "outputs": [],
   "source": [
    "    #if( os.path.isdir(out_dir) == False ):\n",
    "    if ( os.path.exists(out_dir) == False ):\n",
    "        # フォルダの作成は、`os.makedirs()` で行える。\n",
    "        os.makedirs(out_dir)\n"
   ]
  },
  {
   "cell_type": "code",
   "execution_count": null,
   "metadata": {},
   "outputs": [],
   "source": [
    "フォルダ内の全ファイルは、`os.listdir()` で取得出来る。\n",
    "ソートされていないことに注意\n",
    "サブディレクトリも取得されていることに注意"
   ]
  },
  {
   "cell_type": "code",
   "execution_count": null,
   "metadata": {},
   "outputs": [],
   "source": [
    "    files = os.listdir(in_dir)\n",
    "    print( \"files :\", files )\n",
    "\n",
    "    # a,b, .. 順にソート\n",
    "    files_sorted = sorted( os.listdir(in_dir) )\n",
    "    print( \"files_sorted :\", files_sorted )\n",
    "\n",
    "    # ファイルのみの一覧を取得\n",
    "    files_only = []\n",
    "    for f in os.listdir(in_dir):\n",
    "        if( os.path.isfile( os.path.join(in_dir,f) ) ):\n",
    "            files_only.append(f)\n",
    "    \n",
    "    print( \"files_only :\", files_only )\n",
    "\n",
    "    # ファイルのみ出力\n",
    "    for f in files_only:\n",
    "        full_path = os.path.join( in_dir, f )\n",
    "        # コピーするときは、コピー元にファイルが存在するか `os.path.isfile()` で確認すること\n",
    "        if( os.path.isfile(full_path) ):\n",
    "            shutil.copy( full_path, out_dir )"
   ]
  }
 ],
 "metadata": {
  "file_extension": ".py",
  "kernelspec": {
   "display_name": "Python 3",
   "language": "python",
   "name": "python3"
  },
  "language_info": {
   "codemirror_mode": {
    "name": "ipython",
    "version": 3
   },
   "file_extension": ".py",
   "mimetype": "text/x-python",
   "name": "python",
   "nbconvert_exporter": "python",
   "pygments_lexer": "ipython3",
   "version": "3.6.8"
  },
  "mimetype": "text/x-python",
  "name": "python",
  "npconvert_exporter": "python",
  "pygments_lexer": "ipython3",
  "version": 3
 },
 "nbformat": 4,
 "nbformat_minor": 2
}
